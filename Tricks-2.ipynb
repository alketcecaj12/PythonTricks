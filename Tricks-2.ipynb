{
 "cells": [
  {
   "cell_type": "markdown",
   "id": "spoken-situation",
   "metadata": {},
   "source": [
    "### Reverse list"
   ]
  },
  {
   "cell_type": "code",
   "execution_count": 13,
   "id": "guilty-fluid",
   "metadata": {},
   "outputs": [
    {
     "data": {
      "text/plain": [
       "['enea', 'aurora', 'jacopo', 'alket', 'simona']"
      ]
     },
     "execution_count": 13,
     "metadata": {},
     "output_type": "execute_result"
    }
   ],
   "source": [
    "# diffrent ways to reverse a list in python \n",
    "names = [\"simona\", \"alket\", \"jacopo\", \"aurora\", \"enea\"]\n",
    "names.reverse()\n",
    "names"
   ]
  },
  {
   "cell_type": "code",
   "execution_count": 14,
   "id": "continuing-definition",
   "metadata": {},
   "outputs": [
    {
     "data": {
      "text/plain": [
       "['enea', 'aurora', 'jacopo', 'alket', 'simona']"
      ]
     },
     "execution_count": 14,
     "metadata": {},
     "output_type": "execute_result"
    }
   ],
   "source": [
    "names.reverse()\n",
    "names[::-1]"
   ]
  },
  {
   "cell_type": "code",
   "execution_count": 15,
   "id": "present-texture",
   "metadata": {},
   "outputs": [
    {
     "data": {
      "text/plain": [
       "['enea', 'aurora', 'jacopo', 'alket']"
      ]
     },
     "execution_count": 15,
     "metadata": {},
     "output_type": "execute_result"
    }
   ],
   "source": [
    "names[len(names)+2:0:-1]"
   ]
  },
  {
   "cell_type": "markdown",
   "id": "positive-adrian",
   "metadata": {},
   "source": [
    "### Calendar"
   ]
  },
  {
   "cell_type": "code",
   "execution_count": 16,
   "id": "express-wellington",
   "metadata": {},
   "outputs": [],
   "source": [
    "import calendar"
   ]
  },
  {
   "cell_type": "code",
   "execution_count": 17,
   "id": "sunrise-thumbnail",
   "metadata": {},
   "outputs": [
    {
     "name": "stdout",
     "output_type": "stream",
     "text": [
      "   February 2021\n",
      "Mo Tu We Th Fr Sa Su\n",
      " 1  2  3  4  5  6  7\n",
      " 8  9 10 11 12 13 14\n",
      "15 16 17 18 19 20 21\n",
      "22 23 24 25 26 27 28\n",
      "\n"
     ]
    }
   ],
   "source": [
    "print(calendar.month(2021, 2))\n"
   ]
  },
  {
   "cell_type": "markdown",
   "id": "beginning-holmes",
   "metadata": {},
   "source": [
    "### Text wrapper"
   ]
  },
  {
   "cell_type": "code",
   "execution_count": 18,
   "id": "dependent-affair",
   "metadata": {},
   "outputs": [],
   "source": [
    "from textwrap import wrap"
   ]
  },
  {
   "cell_type": "code",
   "execution_count": 19,
   "id": "blond-system",
   "metadata": {},
   "outputs": [],
   "source": [
    "text = \"\"\"ciao oggi è una bella giornata di sole, \n",
    "ottimo possiamo uscire allora, ma per andare dove? Non so, facciamo un giro in centro.\"\"\""
   ]
  },
  {
   "cell_type": "code",
   "execution_count": 22,
   "id": "joint-multimedia",
   "metadata": {},
   "outputs": [
    {
     "data": {
      "text/plain": [
       "['ciao oggi è una',\n",
       " 'bella giornata di',\n",
       " 'sole,  ottimo',\n",
       " 'possiamo uscire',\n",
       " 'allora, ma per',\n",
       " 'andare dove? Non so,',\n",
       " 'facciamo un giro in',\n",
       " 'centro.']"
      ]
     },
     "execution_count": 22,
     "metadata": {},
     "output_type": "execute_result"
    }
   ],
   "source": [
    "wrap(text, width = 20)"
   ]
  },
  {
   "cell_type": "markdown",
   "id": "textile-sellers",
   "metadata": {},
   "source": [
    "### Itertools"
   ]
  },
  {
   "cell_type": "code",
   "execution_count": 23,
   "id": "massive-sport",
   "metadata": {},
   "outputs": [],
   "source": [
    "import random\n",
    "import itertools"
   ]
  },
  {
   "cell_type": "code",
   "execution_count": 24,
   "id": "opening-pension",
   "metadata": {},
   "outputs": [],
   "source": [
    "dice = range(1, 7)"
   ]
  },
  {
   "cell_type": "code",
   "execution_count": 27,
   "id": "asian-burst",
   "metadata": {},
   "outputs": [],
   "source": [
    "combinations = list(itertools.product(dice, repeat = 2))"
   ]
  },
  {
   "cell_type": "code",
   "execution_count": 29,
   "id": "designing-sarah",
   "metadata": {},
   "outputs": [
    {
     "data": {
      "text/plain": [
       "[(1, 1), (1, 2), (1, 3), (1, 4), (1, 5)]"
      ]
     },
     "execution_count": 29,
     "metadata": {},
     "output_type": "execute_result"
    }
   ],
   "source": [
    "combinations[:5]"
   ]
  },
  {
   "cell_type": "code",
   "execution_count": null,
   "id": "arctic-seller",
   "metadata": {},
   "outputs": [],
   "source": []
  },
  {
   "cell_type": "code",
   "execution_count": null,
   "id": "minute-sucking",
   "metadata": {},
   "outputs": [],
   "source": []
  },
  {
   "cell_type": "code",
   "execution_count": null,
   "id": "alive-camera",
   "metadata": {},
   "outputs": [],
   "source": []
  }
 ],
 "metadata": {
  "kernelspec": {
   "display_name": "Python 3",
   "language": "python",
   "name": "python3"
  },
  "language_info": {
   "codemirror_mode": {
    "name": "ipython",
    "version": 3
   },
   "file_extension": ".py",
   "mimetype": "text/x-python",
   "name": "python",
   "nbconvert_exporter": "python",
   "pygments_lexer": "ipython3",
   "version": "3.9.2"
  }
 },
 "nbformat": 4,
 "nbformat_minor": 5
}
