{
 "cells": [
  {
   "cell_type": "markdown",
   "id": "ffd29fc0",
   "metadata": {},
   "source": [
    "### 1"
   ]
  },
  {
   "cell_type": "code",
   "execution_count": 3,
   "id": "e0970b24",
   "metadata": {},
   "outputs": [
    {
     "name": "stdout",
     "output_type": "stream",
     "text": [
      "10 20\n"
     ]
    }
   ],
   "source": [
    "# swap variables with just one line of code- thanks to tuple unpacking you don't need an intermediate variable as in Java\n",
    "a, b = 10, 20\n",
    "print(a, b)\n"
   ]
  },
  {
   "cell_type": "code",
   "execution_count": 4,
   "id": "86d75305",
   "metadata": {},
   "outputs": [
    {
     "name": "stdout",
     "output_type": "stream",
     "text": [
      "20 10\n"
     ]
    }
   ],
   "source": [
    "a, b = b, a\n",
    "print(a, b)"
   ]
  },
  {
   "cell_type": "markdown",
   "id": "58486b04",
   "metadata": {},
   "source": [
    "### 2"
   ]
  },
  {
   "cell_type": "code",
   "execution_count": 18,
   "id": "7f027f97",
   "metadata": {},
   "outputs": [
    {
     "data": {
      "text/plain": [
       "['alket', 'matteo', 'marco', 'stefano']"
      ]
     },
     "execution_count": 18,
     "metadata": {},
     "output_type": "execute_result"
    }
   ],
   "source": [
    "# split string into a list\n",
    "lista_amici = \"alket matteo marco stefano\".split(\" \")\n",
    "lista_amici"
   ]
  },
  {
   "cell_type": "code",
   "execution_count": 19,
   "id": "e7f411e3",
   "metadata": {},
   "outputs": [],
   "source": [
    "# using zip creates an iterable of couples \n",
    "eta = [43, 39, 41, 44]\n",
    "nome_eta = zip(lista_amici, eta)"
   ]
  },
  {
   "cell_type": "code",
   "execution_count": 20,
   "id": "5f7c1b67",
   "metadata": {},
   "outputs": [
    {
     "data": {
      "text/plain": [
       "zip"
      ]
     },
     "execution_count": 20,
     "metadata": {},
     "output_type": "execute_result"
    }
   ],
   "source": [
    "type(nome_eta)"
   ]
  },
  {
   "cell_type": "code",
   "execution_count": 21,
   "id": "57532fd5",
   "metadata": {},
   "outputs": [],
   "source": [
    "#  create dictionary\n",
    "nome_eta = dict(nome_eta)"
   ]
  },
  {
   "cell_type": "code",
   "execution_count": 22,
   "id": "93150c60",
   "metadata": {},
   "outputs": [
    {
     "data": {
      "text/plain": [
       "{'alket': 43, 'matteo': 39, 'marco': 41, 'stefano': 44}"
      ]
     },
     "execution_count": 22,
     "metadata": {},
     "output_type": "execute_result"
    }
   ],
   "source": [
    "nome_eta"
   ]
  },
  {
   "cell_type": "markdown",
   "id": "5ac3436d",
   "metadata": {},
   "source": [
    "### 3"
   ]
  },
  {
   "cell_type": "code",
   "execution_count": 24,
   "id": "16858e46",
   "metadata": {},
   "outputs": [
    {
     "data": {
      "text/plain": [
       "range(0, 10)"
      ]
     },
     "execution_count": 24,
     "metadata": {},
     "output_type": "execute_result"
    }
   ],
   "source": [
    "range(10)"
   ]
  },
  {
   "cell_type": "code",
   "execution_count": 28,
   "id": "41d86528",
   "metadata": {},
   "outputs": [
    {
     "data": {
      "text/plain": [
       "[0, 1, 2, 3, 4, 5, 6, 7, 8, 9]"
      ]
     },
     "execution_count": 28,
     "metadata": {},
     "output_type": "execute_result"
    }
   ],
   "source": [
    "list(range(0, 10))"
   ]
  },
  {
   "cell_type": "code",
   "execution_count": 26,
   "id": "ef13ee61",
   "metadata": {},
   "outputs": [
    {
     "data": {
      "text/plain": [
       "range(1, 11, 2)"
      ]
     },
     "execution_count": 26,
     "metadata": {},
     "output_type": "execute_result"
    }
   ],
   "source": [
    "r = range(1,11, 2)\n",
    "r"
   ]
  },
  {
   "cell_type": "code",
   "execution_count": 27,
   "id": "f0695fc6",
   "metadata": {},
   "outputs": [
    {
     "data": {
      "text/plain": [
       "[1, 3, 5, 7, 9]"
      ]
     },
     "execution_count": 27,
     "metadata": {},
     "output_type": "execute_result"
    }
   ],
   "source": [
    "nums = list(r)\n",
    "nums"
   ]
  },
  {
   "cell_type": "code",
   "execution_count": 33,
   "id": "92756747",
   "metadata": {},
   "outputs": [
    {
     "data": {
      "text/plain": [
       "[15, 12, 9, 6, 3]"
      ]
     },
     "execution_count": 33,
     "metadata": {},
     "output_type": "execute_result"
    }
   ],
   "source": [
    "# curious thing, the range() is not an iterator\n",
    "decrease_step = list(range(15, 1, -3))\n",
    "decrease_step"
   ]
  },
  {
   "cell_type": "markdown",
   "id": "cbbc6524",
   "metadata": {},
   "source": [
    "### 4"
   ]
  },
  {
   "cell_type": "code",
   "execution_count": 35,
   "id": "04c0d238",
   "metadata": {},
   "outputs": [
    {
     "data": {
      "text/plain": [
       "['campus.datacamp.com',\n",
       " 'courses',\n",
       " 'experimental-design-in-python',\n",
       " 'the-basics-of-statistical-hypothesis-testing?ex=9']"
      ]
     },
     "execution_count": 35,
     "metadata": {},
     "output_type": "execute_result"
    }
   ],
   "source": [
    "url = \"https://campus.datacamp.com/courses/experimental-design-in-python/the-basics-of-statistical-hypothesis-testing?ex=9\"\n",
    "list_url = url.split(\"/\")[2: ]\n",
    "list_url"
   ]
  },
  {
   "cell_type": "code",
   "execution_count": 44,
   "id": "9baf14eb",
   "metadata": {},
   "outputs": [
    {
     "name": "stdout",
     "output_type": "stream",
     "text": [
      "<class 'tuple'>\n"
     ]
    }
   ],
   "source": [
    "# create tupe and unpack it\n",
    "tup = tuple(url.split(\"/\")[2:])\n",
    "print(type(tup))\n",
    "main_website, course, name_course, lesson = (url.split(\"/\")[2:])"
   ]
  },
  {
   "cell_type": "code",
   "execution_count": 45,
   "id": "ebd31fe6",
   "metadata": {},
   "outputs": [
    {
     "data": {
      "text/plain": [
       "'campus.datacamp.com'"
      ]
     },
     "execution_count": 45,
     "metadata": {},
     "output_type": "execute_result"
    }
   ],
   "source": [
    "main_website\n"
   ]
  },
  {
   "cell_type": "markdown",
   "id": "e6059cab",
   "metadata": {},
   "source": [
    "# 5"
   ]
  },
  {
   "cell_type": "code",
   "execution_count": 47,
   "id": "b7be83f9",
   "metadata": {},
   "outputs": [
    {
     "name": "stdout",
     "output_type": "stream",
     "text": [
      "alket\n",
      "matteo\n",
      "stefano\n",
      "dino\n"
     ]
    }
   ],
   "source": [
    "# index inside a loop\n",
    "names = [\"alket\", \"matteo\", \"stefano\", \"dino\"]\n",
    "for i in names: \n",
    "    print(i)"
   ]
  },
  {
   "cell_type": "code",
   "execution_count": 51,
   "id": "ce5fe450",
   "metadata": {},
   "outputs": [
    {
     "name": "stdout",
     "output_type": "stream",
     "text": [
      "0 alket\n",
      "1 matteo\n",
      "2 stefano\n",
      "3 dino\n"
     ]
    }
   ],
   "source": [
    "# with an enumerator around an iterator such as a list you get a counter for free. The \"start\" atribute decides the index start\n",
    "for i, name in enumerate(names, start = 0):\n",
    "    print(i, name)"
   ]
  },
  {
   "cell_type": "markdown",
   "id": "6b795be6",
   "metadata": {},
   "source": [
    "### 6"
   ]
  },
  {
   "cell_type": "code",
   "execution_count": 61,
   "id": "687d5803",
   "metadata": {},
   "outputs": [],
   "source": [
    "# sorting things \n",
    "d = {\"simo\":37, \"enea\":5, \"alket\":43}\n",
    "sorted_by_name = sorted(d.items())"
   ]
  },
  {
   "cell_type": "code",
   "execution_count": 62,
   "id": "13a02242",
   "metadata": {},
   "outputs": [
    {
     "data": {
      "text/plain": [
       "[('alket', 43), ('enea', 5), ('simo', 37)]"
      ]
     },
     "execution_count": 62,
     "metadata": {},
     "output_type": "execute_result"
    }
   ],
   "source": [
    "sorted_by_name"
   ]
  },
  {
   "cell_type": "code",
   "execution_count": 66,
   "id": "1b57daa9",
   "metadata": {},
   "outputs": [
    {
     "data": {
      "text/plain": [
       "[('enea', 5), ('simo', 37), ('alket', 43)]"
      ]
     },
     "execution_count": 66,
     "metadata": {},
     "output_type": "execute_result"
    }
   ],
   "source": [
    "sorted_by_age = sorted(d.items(), key = lambda x : x[1])\n",
    "sorted_by_age"
   ]
  },
  {
   "cell_type": "code",
   "execution_count": 68,
   "id": "04d5543d",
   "metadata": {},
   "outputs": [
    {
     "data": {
      "text/plain": [
       "[('alket', 43), ('simo', 37), ('enea', 5)]"
      ]
     },
     "execution_count": 68,
     "metadata": {},
     "output_type": "execute_result"
    }
   ],
   "source": [
    "sorted_by_age_reverse = sorted(d.items(), key= lambda x : x[1], reverse = True)\n",
    "sorted_by_age_reverse"
   ]
  },
  {
   "cell_type": "code",
   "execution_count": 59,
   "id": "518991ed",
   "metadata": {},
   "outputs": [],
   "source": [
    "lista = \"alket ledi igli daniel eno alban\".split(\" \")"
   ]
  },
  {
   "cell_type": "code",
   "execution_count": 60,
   "id": "910cc172",
   "metadata": {},
   "outputs": [
    {
     "data": {
      "text/plain": [
       "['alban', 'alket', 'daniel', 'eno', 'igli', 'ledi']"
      ]
     },
     "execution_count": 60,
     "metadata": {},
     "output_type": "execute_result"
    }
   ],
   "source": [
    "sorted(lista)"
   ]
  },
  {
   "cell_type": "markdown",
   "id": "df2e9b24",
   "metadata": {},
   "source": [
    "### 7"
   ]
  },
  {
   "cell_type": "code",
   "execution_count": 69,
   "id": "39254000",
   "metadata": {},
   "outputs": [
    {
     "data": {
      "text/plain": [
       "True"
      ]
     },
     "execution_count": 69,
     "metadata": {},
     "output_type": "execute_result"
    }
   ],
   "source": [
    "a = 7\n",
    "b = 1\n",
    "# instead of writing a > 1 and a < 10 you can chain everything\n",
    "1 < a < 10 "
   ]
  },
  {
   "cell_type": "markdown",
   "id": "922a1ad0",
   "metadata": {},
   "source": [
    "### 8"
   ]
  },
  {
   "cell_type": "code",
   "execution_count": 71,
   "id": "e3803f42",
   "metadata": {},
   "outputs": [
    {
     "data": {
      "text/plain": [
       "[[1, 2, 3, 4], [3, 4], [8, 9], [10]]"
      ]
     },
     "execution_count": 71,
     "metadata": {},
     "output_type": "execute_result"
    }
   ],
   "source": [
    "# flaten a list of lists \n",
    "listoflists = [[1, 2, 3, 4], [3, 4], [8, 9], [10]]\n",
    "listoflists"
   ]
  },
  {
   "cell_type": "code",
   "execution_count": 73,
   "id": "8f463801",
   "metadata": {},
   "outputs": [
    {
     "data": {
      "text/plain": [
       "[1, 2, 3, 4, 3, 4, 8, 9, 10]"
      ]
     },
     "execution_count": 73,
     "metadata": {},
     "output_type": "execute_result"
    }
   ],
   "source": [
    "flatten = sum(listoflists, [])\n",
    "flatten"
   ]
  },
  {
   "cell_type": "markdown",
   "id": "99336125",
   "metadata": {},
   "source": [
    "### 9"
   ]
  },
  {
   "cell_type": "code",
   "execution_count": 74,
   "id": "67ec6bcb",
   "metadata": {},
   "outputs": [],
   "source": [
    "from random import sample"
   ]
  },
  {
   "cell_type": "code",
   "execution_count": 75,
   "id": "2c35a94d",
   "metadata": {},
   "outputs": [],
   "source": [
    "fruits = \"banana apple kiwi pineapple melon watermelon peach\".split()"
   ]
  },
  {
   "cell_type": "code",
   "execution_count": 80,
   "id": "b7b31dfd",
   "metadata": {},
   "outputs": [
    {
     "data": {
      "text/plain": [
       "['kiwi', 'pineapple']"
      ]
     },
     "execution_count": 80,
     "metadata": {},
     "output_type": "execute_result"
    }
   ],
   "source": [
    "sample(fruits, 2)"
   ]
  },
  {
   "cell_type": "markdown",
   "id": "860ee396",
   "metadata": {},
   "source": [
    "### 10"
   ]
  },
  {
   "cell_type": "code",
   "execution_count": 81,
   "id": "e50c3dc4",
   "metadata": {},
   "outputs": [],
   "source": [
    "from collections import Counter"
   ]
  },
  {
   "cell_type": "code",
   "execution_count": 89,
   "id": "388ceb5e",
   "metadata": {},
   "outputs": [],
   "source": [
    "greens = \"salad,cuccumber,onion,zuchini,eggplant,salad,eggplant,onion,patatos,onion\".split(\",\")"
   ]
  },
  {
   "cell_type": "code",
   "execution_count": 90,
   "id": "43e7f5d7",
   "metadata": {},
   "outputs": [
    {
     "data": {
      "text/plain": [
       "Counter({'salad': 2,\n",
       "         'cuccumber': 1,\n",
       "         'onion': 3,\n",
       "         'zuchini': 1,\n",
       "         'eggplant': 2,\n",
       "         'patatos': 1})"
      ]
     },
     "execution_count": 90,
     "metadata": {},
     "output_type": "execute_result"
    }
   ],
   "source": [
    "Counter(greens)"
   ]
  },
  {
   "cell_type": "markdown",
   "id": "73177b16",
   "metadata": {},
   "source": [
    "### 11"
   ]
  },
  {
   "cell_type": "code",
   "execution_count": 91,
   "id": "3b8be1be",
   "metadata": {},
   "outputs": [],
   "source": [
    "from collections import deque\n",
    "s = \"ciao, oggi è una bella giornata\"\n",
    "d = deque(s)"
   ]
  },
  {
   "cell_type": "code",
   "execution_count": 95,
   "id": "45017c91",
   "metadata": {},
   "outputs": [],
   "source": [
    "d.rotate(3)"
   ]
  },
  {
   "cell_type": "code",
   "execution_count": 96,
   "id": "1b1cbcd6",
   "metadata": {
    "scrolled": true
   },
   "outputs": [
    {
     "data": {
      "text/plain": [
       "deque([' ',\n",
       "       'g',\n",
       "       'i',\n",
       "       'o',\n",
       "       'r',\n",
       "       'n',\n",
       "       'a',\n",
       "       't',\n",
       "       'a',\n",
       "       'c',\n",
       "       'i',\n",
       "       'a',\n",
       "       'o',\n",
       "       ',',\n",
       "       ' ',\n",
       "       'o',\n",
       "       'g',\n",
       "       'g',\n",
       "       'i',\n",
       "       ' ',\n",
       "       'è',\n",
       "       ' ',\n",
       "       'u',\n",
       "       'n',\n",
       "       'a',\n",
       "       ' ',\n",
       "       'b',\n",
       "       'e',\n",
       "       'l',\n",
       "       'l',\n",
       "       'a'])"
      ]
     },
     "execution_count": 96,
     "metadata": {},
     "output_type": "execute_result"
    }
   ],
   "source": [
    "d\n"
   ]
  },
  {
   "cell_type": "code",
   "execution_count": 97,
   "id": "bf3a1407",
   "metadata": {},
   "outputs": [
    {
     "data": {
      "text/plain": [
       "' giornataciao, oggi è una bella'"
      ]
     },
     "execution_count": 97,
     "metadata": {},
     "output_type": "execute_result"
    }
   ],
   "source": [
    "''.join(d)"
   ]
  },
  {
   "cell_type": "markdown",
   "id": "bbb7952e",
   "metadata": {},
   "source": [
    "### 12 "
   ]
  },
  {
   "cell_type": "code",
   "execution_count": 100,
   "id": "1b6710c5",
   "metadata": {},
   "outputs": [
    {
     "data": {
      "text/plain": [
       "['PHP', 'Perl', 'Python']"
      ]
     },
     "execution_count": 100,
     "metadata": {},
     "output_type": "execute_result"
    }
   ],
   "source": [
    "languages = \"Java PHP Perl Python C++ C#\".split()\n",
    "[l for l in languages if l.lower().startswith(\"p\")]\n"
   ]
  },
  {
   "cell_type": "code",
   "execution_count": 102,
   "id": "076b8fda",
   "metadata": {},
   "outputs": [
    {
     "data": {
      "text/plain": [
       "True"
      ]
     },
     "execution_count": 102,
     "metadata": {},
     "output_type": "execute_result"
    }
   ],
   "source": [
    "all(len(l) >= 2 for l in languages)"
   ]
  },
  {
   "cell_type": "code",
   "execution_count": 104,
   "id": "b7cc3e24",
   "metadata": {},
   "outputs": [
    {
     "data": {
      "text/plain": [
       "True"
      ]
     },
     "execution_count": 104,
     "metadata": {},
     "output_type": "execute_result"
    }
   ],
   "source": [
    "any(\"++\" in l for l in languages)"
   ]
  },
  {
   "cell_type": "markdown",
   "id": "79fae6fe",
   "metadata": {},
   "source": [
    "### 13"
   ]
  },
  {
   "cell_type": "code",
   "execution_count": 109,
   "id": "58b307a3",
   "metadata": {},
   "outputs": [
    {
     "name": "stdout",
     "output_type": "stream",
     "text": [
      "0001\n",
      "0002\n",
      "0003\n",
      "0004\n",
      "0005\n",
      "0006\n",
      "0007\n",
      "0008\n",
      "0009\n"
     ]
    }
   ],
   "source": [
    "for i in range(1, 10):\n",
    "    print(str(i).zfill(4))"
   ]
  },
  {
   "cell_type": "code",
   "execution_count": 110,
   "id": "95ebcde7",
   "metadata": {},
   "outputs": [
    {
     "name": "stdout",
     "output_type": "stream",
     "text": [
      "-003\n",
      "-002\n",
      "-001\n",
      "0000\n",
      "0001\n"
     ]
    }
   ],
   "source": [
    "for i in range(-3, 2): \n",
    "    print(str(i).zfill(4))"
   ]
  },
  {
   "cell_type": "markdown",
   "id": "5a20d310",
   "metadata": {},
   "source": [
    "### 14"
   ]
  },
  {
   "cell_type": "code",
   "execution_count": 115,
   "id": "0f49b8d8",
   "metadata": {},
   "outputs": [
    {
     "name": "stdout",
     "output_type": "stream",
     "text": [
      "15e5b71a-31ed-4298-8e38-26404236f927\n"
     ]
    }
   ],
   "source": [
    "# generate unique identifier with uuid\n",
    "from uuid import uuid4\n",
    "id = uuid4()\n",
    "print(id)"
   ]
  },
  {
   "cell_type": "markdown",
   "id": "67234889",
   "metadata": {},
   "source": [
    "### 15 "
   ]
  },
  {
   "cell_type": "code",
   "execution_count": 120,
   "id": "17bacb48",
   "metadata": {},
   "outputs": [
    {
     "name": "stdout",
     "output_type": "stream",
     "text": [
      "hello there\n",
      "hi , how are you\n",
      "great, how do you do\n",
      "have a nice day\n"
     ]
    }
   ],
   "source": [
    "# combine multiple strings \n",
    "s = [\"hello there\", \"hi , how are you\", \"great, how do you do\", \"have a nice day\"]\n",
    "joined = \"\\n\".join(s)\n",
    "print(joined)"
   ]
  },
  {
   "cell_type": "code",
   "execution_count": null,
   "id": "11c277aa",
   "metadata": {},
   "outputs": [],
   "source": []
  }
 ],
 "metadata": {
  "kernelspec": {
   "display_name": "Python 3",
   "language": "python",
   "name": "python3"
  },
  "language_info": {
   "codemirror_mode": {
    "name": "ipython",
    "version": 3
   },
   "file_extension": ".py",
   "mimetype": "text/x-python",
   "name": "python",
   "nbconvert_exporter": "python",
   "pygments_lexer": "ipython3",
   "version": "3.9.5"
  }
 },
 "nbformat": 4,
 "nbformat_minor": 5
}
